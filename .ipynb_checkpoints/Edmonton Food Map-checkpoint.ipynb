{
 "cells": [
  {
   "cell_type": "markdown",
   "metadata": {},
   "source": [
    "# Edmonton Food Assets Project\n",
    "\n",
    "this notebook uses the module `gspread` to connect with a google spreadsheet and manipulate it.\n",
    "\n",
    "\n",
    "another joe change\n",
    "\n",
    "** about gspread **\n",
    "\n",
    "I got it from doing this (in the terminal): \n",
    "> ```conda install -c bryanwweber gspread```\n",
    "\n",
    "\n",
    "_**To Do**_\n",
    "\n",
    "Current unresolved issue is that in the list of descriptions that are in a column of the spreadsheet there are sometimes two URLs.\n",
    "We only want the the URL-encoded one. the first one has bad encoding of the characters.\n",
    "\n",
    "it would also be cool to use this modules https://github.com/tuomur/python-odata to directly access edmonton's open data\n",
    "\n",
    "\n",
    "this is a radical change that should only be in the joe branch"
   ]
  },
  {
   "cell_type": "code",
   "execution_count": 18,
   "metadata": {
    "cell_style": "split",
    "collapsed": true
   },
   "outputs": [],
   "source": [
    "import pandas as pd\n",
    "import gspread\n",
    "from oauth2client.service_account import ServiceAccountCredentials"
   ]
  },
  {
   "cell_type": "markdown",
   "metadata": {},
   "source": [
    "Got my start using this [Twilio blog](https://www.twilio.com/blog/2017/02/an-easy-way-to-read-and-write-to-a-google-spreadsheet-in-python.html)\n",
    "\n",
    "\n",
    "- Go to the Google APIs Console.\n",
    "- Create a new project.\n",
    "- Click Enable API. Search for and enable the Google Drive API.\n",
    "- Create credentials for a Web Server to access Application Data.\n",
    "- Name the service account and grant it a Project Role of Editor.\n",
    "- Download the JSON file.\n",
    "- Copy the JSON file to your code directory and rename it to client_secret.json\n",
    "\n",
    "\n",
    " \n",
    "\n",
    "There is one last required step to authorize your app, and it’s easy to miss!\n",
    "\n",
    "Find the  client_email inside client_secret.json. Back in your spreadsheet, click the Share button in the top right, and paste the client email into the People field to give it edit rights. Hit Send."
   ]
  },
  {
   "cell_type": "code",
   "execution_count": 19,
   "metadata": {
    "cell_style": "split",
    "collapsed": false
   },
   "outputs": [],
   "source": [
    "import gspread\n",
    "from oauth2client.service_account import ServiceAccountCredentials\n",
    "\n",
    "\n",
    "# use creds to create a client to interact with the Google Drive API\n",
    "scope = ['https://spreadsheets.google.com/feeds']\n",
    "creds = ServiceAccountCredentials.from_json_keyfile_name('../client_secret.json', scope)\n",
    "client = gspread.authorize(creds)\n",
    "\n",
    "# # Find a workbook by name and open the first sheet\n",
    "# # Make sure you use the right name here.\n",
    "# sheet = client.open(\"Copy of Open YEGFood Asset Map\").Beehives\n",
    "\n",
    "# # Extract and print all of the values\n",
    "# list_of_hashes = sheet.get_all_records()\n",
    "# print(list_of_hashes)"
   ]
  },
  {
   "cell_type": "code",
   "execution_count": 20,
   "metadata": {
    "cell_style": "split",
    "collapsed": true
   },
   "outputs": [],
   "source": [
    "g_sheets = client.open(\"Copy of Open YEGFood Asset Map\")"
   ]
  },
  {
   "cell_type": "code",
   "execution_count": 21,
   "metadata": {
    "cell_style": "split",
    "collapsed": false
   },
   "outputs": [
    {
     "data": {
      "text/plain": [
       "[<Worksheet 'Edible City Trees' id:od6>,\n",
       " <Worksheet 'Vacant Lots For Urban Agriculture' id:ooj9lq6>,\n",
       " <Worksheet 'Beehives' id:oab072s>,\n",
       " <Worksheet 'Community Gardens' id:opqt86e>]"
      ]
     },
     "execution_count": 21,
     "metadata": {},
     "output_type": "execute_result"
    }
   ],
   "source": [
    "g_sheets.worksheets()"
   ]
  },
  {
   "cell_type": "markdown",
   "metadata": {},
   "source": [
    "# google to sheet to DataFrame"
   ]
  },
  {
   "cell_type": "code",
   "execution_count": 22,
   "metadata": {
    "cell_style": "split",
    "collapsed": false
   },
   "outputs": [
    {
     "data": {
      "text/plain": [
       "[{'': '',\n",
       "  'Name': '2816 39 Ave NW (Existing)',\n",
       "  'category': 'Hive Removal',\n",
       "  'description': '',\n",
       "  'lat': 53.4757,\n",
       "  'long': -113.383},\n",
       " {'': '',\n",
       "  'Name': 'Radisson Hotel (Poisoned)',\n",
       "  'category': 'Hive Removal',\n",
       "  'description': 'Radisson Hotel Edmonton South. Manager called because they had a swarm of bees on the building. However, it turns out that they were living in the wall and sprayed (by an exterminator) the day before.',\n",
       "  'lat': 53.48253,\n",
       "  'long': -113.494},\n",
       " {'': '',\n",
       "  'Name': '9736 87 Ave NW (Existing)',\n",
       "  'category': 'Hive Removal',\n",
       "  'description': \"Can you help us remove bees and honey from our chimney? We live in Old Strathcona, 100 year old house, non-functioning fireplace. I think I know the point of entry. There was a lot of activity a few weeks ago, now it's quiet but I know they are there. We want them gone for good but are most concerned about getting the honey out of the walls and chimney.\",\n",
       "  'lat': 53.52294,\n",
       "  'long': -113.481},\n",
       " {'': '',\n",
       "  'Name': '12846 134 St NW (Existing)',\n",
       "  'category': 'Hive Removal',\n",
       "  'description': '',\n",
       "  'lat': 53.58729,\n",
       "  'long': -113.552},\n",
       " {'': '',\n",
       "  'Name': '74 Wize Ct NW (Unsure)',\n",
       "  'category': 'Hive Removal',\n",
       "  'description': 'June 4, 2015. Swarm that recently moved under some concrete stairs.',\n",
       "  'lat': 53.49806,\n",
       "  'long': -113.599},\n",
       " {'': '',\n",
       "  'Name': '10638 61 Ave NW (Existing)',\n",
       "  'category': 'Hive Removal',\n",
       "  'description': 'June 7th, 2015. Swarm that moved into the side of a house. Residents changed the door but had not added the trim yet.',\n",
       "  'lat': 53.49839,\n",
       "  'long': -113.507},\n",
       " {'': '',\n",
       "  'Name': '9826 171a Ave NW (Existing)',\n",
       "  'category': 'Hive Removal',\n",
       "  'description': 'We have what I think is a fairly large colony of bees in our back yard, under our sunroom which is raised 4 - 5 feet above the ground. A little over 2 weeks ago a whole swarm of them came out and settled on a chair close by as well as other places for a short while. I managed to take a few pictures and by comparing them to other pictures I have identified them as honey bees.<br>Underneath the porch it is insulated and has a plywood cover across the whole bottom of the porch. The bees seem to have found a small hole not covered and are entering there. Anything you can do to help move the bees to a new residence would be very much appreciated. Quite frankly both my wife and I are scared of them. Â My phone number is 780-456 -3769 and the address is 9826-171A Avenue, Edmonton.Â',\n",
       "  'lat': 53.63423,\n",
       "  'long': -113.494},\n",
       " {'': '',\n",
       "  'Name': '52519 Range Rd 21',\n",
       "  'category': 'Hive Removal',\n",
       "  'description': 'Swarm moved into a basement wall. Reported it to Swarm Catchers.',\n",
       "  'lat': 53.53585,\n",
       "  'long': -114.174},\n",
       " {'': '',\n",
       "  'Name': '53009 Range Rd 20',\n",
       "  'category': 'Hive Removal',\n",
       "  'description': 'Nicole Berkshire 780.803.7095 Honeybees identified by Active Pest Solutions. Located in kitchen wall of house.',\n",
       "  'lat': 53.55352,\n",
       "  'long': -114.149},\n",
       " {'': '',\n",
       "  'Name': '2704 117 St NW (Existing)',\n",
       "  'category': 'Hive Removal',\n",
       "  'description': 'Seams moved into porch overhang.<br><br>Hi Dustin,<br>Here are two photos from yesterday. Bees here since Wednesday noon.<br>Our address is 2704 -117 Street in Blue Quill<br>My number is 780-434-1920<br>Heather',\n",
       "  'lat': 53.4589,\n",
       "  'long': -113.534}]"
      ]
     },
     "execution_count": 22,
     "metadata": {},
     "output_type": "execute_result"
    }
   ],
   "source": [
    "bees_sheet = g_sheets.get_worksheet(2)\n",
    "_d = bees_sheet.get_all_records(); _d[:10]"
   ]
  },
  {
   "cell_type": "code",
   "execution_count": 23,
   "metadata": {
    "cell_style": "split",
    "collapsed": false
   },
   "outputs": [],
   "source": [
    "beehives_df = pd.DataFrame.from_dict(_d)"
   ]
  },
  {
   "cell_type": "code",
   "execution_count": 24,
   "metadata": {
    "cell_style": "split",
    "collapsed": false
   },
   "outputs": [
    {
     "data": {
      "text/html": [
       "<div>\n",
       "<table border=\"1\" class=\"dataframe\">\n",
       "  <thead>\n",
       "    <tr style=\"text-align: right;\">\n",
       "      <th></th>\n",
       "      <th></th>\n",
       "      <th>Name</th>\n",
       "      <th>category</th>\n",
       "      <th>description</th>\n",
       "      <th>lat</th>\n",
       "      <th>long</th>\n",
       "    </tr>\n",
       "  </thead>\n",
       "  <tbody>\n",
       "    <tr>\n",
       "      <th>0</th>\n",
       "      <td></td>\n",
       "      <td>2816 39 Ave NW (Existing)</td>\n",
       "      <td>Hive Removal</td>\n",
       "      <td></td>\n",
       "      <td>53.4757</td>\n",
       "      <td>-113.383</td>\n",
       "    </tr>\n",
       "    <tr>\n",
       "      <th>1</th>\n",
       "      <td></td>\n",
       "      <td>Radisson Hotel (Poisoned)</td>\n",
       "      <td>Hive Removal</td>\n",
       "      <td>Radisson Hotel Edmonton South. Manager called ...</td>\n",
       "      <td>53.4825</td>\n",
       "      <td>-113.494</td>\n",
       "    </tr>\n",
       "    <tr>\n",
       "      <th>2</th>\n",
       "      <td></td>\n",
       "      <td>9736 87 Ave NW (Existing)</td>\n",
       "      <td>Hive Removal</td>\n",
       "      <td>Can you help us remove bees and honey from our...</td>\n",
       "      <td>53.5229</td>\n",
       "      <td>-113.481</td>\n",
       "    </tr>\n",
       "    <tr>\n",
       "      <th>3</th>\n",
       "      <td></td>\n",
       "      <td>12846 134 St NW (Existing)</td>\n",
       "      <td>Hive Removal</td>\n",
       "      <td></td>\n",
       "      <td>53.5873</td>\n",
       "      <td>-113.552</td>\n",
       "    </tr>\n",
       "    <tr>\n",
       "      <th>4</th>\n",
       "      <td></td>\n",
       "      <td>74 Wize Ct NW (Unsure)</td>\n",
       "      <td>Hive Removal</td>\n",
       "      <td>June 4, 2015. Swarm that recently moved under ...</td>\n",
       "      <td>53.4981</td>\n",
       "      <td>-113.599</td>\n",
       "    </tr>\n",
       "  </tbody>\n",
       "</table>\n",
       "</div>"
      ],
      "text/plain": [
       "                           Name      category  \\\n",
       "0     2816 39 Ave NW (Existing)  Hive Removal   \n",
       "1     Radisson Hotel (Poisoned)  Hive Removal   \n",
       "2     9736 87 Ave NW (Existing)  Hive Removal   \n",
       "3    12846 134 St NW (Existing)  Hive Removal   \n",
       "4        74 Wize Ct NW (Unsure)  Hive Removal   \n",
       "\n",
       "                                         description      lat     long  \n",
       "0                                                     53.4757 -113.383  \n",
       "1  Radisson Hotel Edmonton South. Manager called ...  53.4825 -113.494  \n",
       "2  Can you help us remove bees and honey from our...  53.5229 -113.481  \n",
       "3                                                     53.5873 -113.552  \n",
       "4  June 4, 2015. Swarm that recently moved under ...  53.4981 -113.599  "
      ]
     },
     "execution_count": 24,
     "metadata": {},
     "output_type": "execute_result"
    }
   ],
   "source": [
    "beehives_df.head()"
   ]
  },
  {
   "cell_type": "code",
   "execution_count": 25,
   "metadata": {
    "cell_style": "split",
    "collapsed": false
   },
   "outputs": [
    {
     "data": {
      "text/plain": [
       "Index(['', 'Name', 'category', 'description', 'lat', 'long'], dtype='object')"
      ]
     },
     "execution_count": 25,
     "metadata": {},
     "output_type": "execute_result"
    }
   ],
   "source": [
    "beehives_df.columns"
   ]
  },
  {
   "cell_type": "markdown",
   "metadata": {},
   "source": [
    "# DataFrame to Google Sheet?"
   ]
  },
  {
   "cell_type": "code",
   "execution_count": 26,
   "metadata": {
    "cell_style": "split",
    "collapsed": false
   },
   "outputs": [],
   "source": [
    "garden_sheet = g_sheets.get_worksheet(3)"
   ]
  },
  {
   "cell_type": "code",
   "execution_count": 27,
   "metadata": {
    "cell_style": "split",
    "collapsed": false
   },
   "outputs": [],
   "source": [
    "import re\n",
    "url_re = re.compile(r\"\"\"((?i)\\b((?:[a-z][\\w-]+:(?:/{1,3}|[a-z0-9%])|www\\d{0,3}[.]|[a-z0-9.\\-]+[.][a-z]{2,4}/)(?:[^\\s()<>]+|\\(([^\\s()<>]+|(\\([^\\s()<>]+\\)))*\\))+(?:\\(([^\\s()<>]+|(\\([^\\s()<>]+\\)))*\\)|[^\\s`!()\\[\\]{};:'\".,<>?«»“”‘’])))\"\"\")\n",
    "\n"
   ]
  },
  {
   "cell_type": "code",
   "execution_count": 39,
   "metadata": {
    "cell_style": "split",
    "collapsed": false
   },
   "outputs": [
    {
     "name": "stdout",
     "output_type": "stream",
     "text": [
      "http%3A//sustainablefoodedmonton.org/alex-taylor-garden/\n",
      "http%3A//sustainablefoodedmonton.org/boyle-street-community-garden/\n",
      "http%3A//sustainablefoodedmonton.org/city-of-edmonton-plant-a-row-grow-a-row/\n",
      "http%3A//sustainablefoodedmonton.org/our-urban-eden/\n",
      "http%3A//sustainablefoodedmonton.org/oasis-at-the-bay/\n",
      "http%3A//sustainablefoodedmonton.org/st-andrews-community-garden/\n",
      "http%3A//edmcommunitygardens.blogspot.com/search/label/Trinity%2520Manor\n",
      "http%3A//sustainablefoodedmonton.org/victory-rooftop-gardens/\n",
      "http%3A//sustainablefoodedmonton.org/dickinsfield-blooms-community-garden/\n",
      "http%3A//sustainablefoodedmonton.org/elmwood-park/\n"
     ]
    },
    {
     "name": "stderr",
     "output_type": "stream",
     "text": [
      "/Users/mannalytics/anaconda/envs/geopandas_test_env/lib/python3.5/site-packages/ipykernel/__main__.py:2: FutureWarning: currently extract(expand=None) means expand=False (return Index/Series/DataFrame) but in a future version of pandas this will be changed to expand=True (return DataFrame)\n",
      "  from ipykernel import kernelapp as app\n"
     ]
    }
   ],
   "source": [
    "import urllib.parse \n",
    "for u in garden_df.description.str.extract(url_re)[0][:10]:\n",
    "    print(urllib.parse.quote(u))"
   ]
  },
  {
   "cell_type": "markdown",
   "metadata": {},
   "source": [
    "Add url column to sheet"
   ]
  },
  {
   "cell_type": "code",
   "execution_count": 29,
   "metadata": {
    "cell_style": "split",
    "collapsed": false
   },
   "outputs": [
    {
     "name": "stderr",
     "output_type": "stream",
     "text": [
      "/Users/mannalytics/anaconda/envs/geopandas_test_env/lib/python3.5/site-packages/ipykernel/__main__.py:2: FutureWarning: currently extract(expand=None) means expand=False (return Index/Series/DataFrame) but in a future version of pandas this will be changed to expand=True (return DataFrame)\n",
      "  from ipykernel import kernelapp as app\n"
     ]
    }
   ],
   "source": [
    "garden_df = pd.DataFrame.from_dict(garden_sheet.get_all_records())\n",
    "garden_df.loc[:,'url'] = garden_df.description.str.extract(url_re)[0]\n"
   ]
  },
  {
   "cell_type": "code",
   "execution_count": 31,
   "metadata": {
    "cell_style": "split",
    "collapsed": false
   },
   "outputs": [
    {
     "data": {
      "text/html": [
       "<div>\n",
       "<table border=\"1\" class=\"dataframe\">\n",
       "  <thead>\n",
       "    <tr style=\"text-align: right;\">\n",
       "      <th></th>\n",
       "      <th>Name</th>\n",
       "      <th>URLs</th>\n",
       "      <th>description</th>\n",
       "      <th>lat</th>\n",
       "      <th>long</th>\n",
       "      <th>url</th>\n",
       "    </tr>\n",
       "  </thead>\n",
       "  <tbody>\n",
       "    <tr>\n",
       "      <th>0</th>\n",
       "      <td>Alex Taylor Community Garden</td>\n",
       "      <td>http://sustainablefoodedmonton.org/alex-taylor...</td>\n",
       "      <td>9321 Jasper Avenue&lt;br&gt;&lt;br&gt;http://sustainablefo...</td>\n",
       "      <td>53.54686</td>\n",
       "      <td>-113.477</td>\n",
       "      <td>http://sustainablefoodedmonton.org/alex-taylor...</td>\n",
       "    </tr>\n",
       "    <tr>\n",
       "      <th>1</th>\n",
       "      <td>Boyle Street</td>\n",
       "      <td>http://sustainablefoodedmonton.org/boyle-stree...</td>\n",
       "      <td>10235 â€“ 96 street http://sustainablefoodedmo...</td>\n",
       "      <td>53.55165</td>\n",
       "      <td>-113.482</td>\n",
       "      <td>http://sustainablefoodedmonton.org/boyle-stree...</td>\n",
       "    </tr>\n",
       "    <tr>\n",
       "      <th>2</th>\n",
       "      <td>City of Edmonton Plant-a-Row Grow-a-Row</td>\n",
       "      <td>http://sustainablefoodedmonton.org/city-of-edm...</td>\n",
       "      <td>13111 Meridian Street&lt;br&gt;&lt;br&gt; &lt;br&gt;Website:&lt;br&gt;...</td>\n",
       "      <td>53.58996</td>\n",
       "      <td>-113.345</td>\n",
       "      <td>http://sustainablefoodedmonton.org/city-of-edm...</td>\n",
       "    </tr>\n",
       "    <tr>\n",
       "      <th>3</th>\n",
       "      <td>Our Urban Eden</td>\n",
       "      <td>http://sustainablefoodedmonton.org/our-urban-e...</td>\n",
       "      <td>Address:&lt;br&gt;Bellamy Hill Road &amp; 99 Avenue&lt;br&gt;&lt;...</td>\n",
       "      <td>53.53724</td>\n",
       "      <td>-113.496</td>\n",
       "      <td>http://sustainablefoodedmonton.org/our-urban-e...</td>\n",
       "    </tr>\n",
       "    <tr>\n",
       "      <th>4</th>\n",
       "      <td>Oasis at the Bay</td>\n",
       "      <td>http://sustainablefoodedmonton.org/oasis-at-th...</td>\n",
       "      <td>10826 113 Street&lt;br&gt;&lt;br&gt;&lt;br&gt;Website:&lt;br&gt;http:/...</td>\n",
       "      <td>53.55336</td>\n",
       "      <td>-113.516</td>\n",
       "      <td>http://sustainablefoodedmonton.org/oasis-at-th...</td>\n",
       "    </tr>\n",
       "  </tbody>\n",
       "</table>\n",
       "</div>"
      ],
      "text/plain": [
       "                                      Name  \\\n",
       "0             Alex Taylor Community Garden   \n",
       "1                             Boyle Street   \n",
       "2  City of Edmonton Plant-a-Row Grow-a-Row   \n",
       "3                           Our Urban Eden   \n",
       "4                         Oasis at the Bay   \n",
       "\n",
       "                                                URLs  \\\n",
       "0  http://sustainablefoodedmonton.org/alex-taylor...   \n",
       "1  http://sustainablefoodedmonton.org/boyle-stree...   \n",
       "2  http://sustainablefoodedmonton.org/city-of-edm...   \n",
       "3  http://sustainablefoodedmonton.org/our-urban-e...   \n",
       "4  http://sustainablefoodedmonton.org/oasis-at-th...   \n",
       "\n",
       "                                         description       lat     long  \\\n",
       "0  9321 Jasper Avenue<br><br>http://sustainablefo...  53.54686 -113.477   \n",
       "1  10235 â€“ 96 street http://sustainablefoodedmo...  53.55165 -113.482   \n",
       "2  13111 Meridian Street<br><br> <br>Website:<br>...  53.58996 -113.345   \n",
       "3  Address:<br>Bellamy Hill Road & 99 Avenue<br><...  53.53724 -113.496   \n",
       "4  10826 113 Street<br><br><br>Website:<br>http:/...  53.55336 -113.516   \n",
       "\n",
       "                                                 url  \n",
       "0  http://sustainablefoodedmonton.org/alex-taylor...  \n",
       "1  http://sustainablefoodedmonton.org/boyle-stree...  \n",
       "2  http://sustainablefoodedmonton.org/city-of-edm...  \n",
       "3  http://sustainablefoodedmonton.org/our-urban-e...  \n",
       "4  http://sustainablefoodedmonton.org/oasis-at-th...  "
      ]
     },
     "execution_count": 31,
     "metadata": {},
     "output_type": "execute_result"
    }
   ],
   "source": [
    "garden_df.head()"
   ]
  },
  {
   "cell_type": "markdown",
   "metadata": {
    "cell_style": "split"
   },
   "source": [
    "How do I find the last row in a sheet? `row_count` just gives all the rows without regard for data."
   ]
  },
  {
   "cell_type": "code",
   "execution_count": 32,
   "metadata": {
    "cell_style": "split",
    "collapsed": false
   },
   "outputs": [
    {
     "data": {
      "text/plain": [
       "1000"
      ]
     },
     "execution_count": 32,
     "metadata": {},
     "output_type": "execute_result"
    }
   ],
   "source": [
    "garden_sheet.row_count"
   ]
  },
  {
   "cell_type": "code",
   "execution_count": 38,
   "metadata": {
    "cell_style": "split",
    "collapsed": false
   },
   "outputs": [
    {
     "name": "stdout",
     "output_type": "stream",
     "text": [
      "http://sustainablefoodedmonton.org/beverly-allianâ€¦mmunity-garden/\n",
      "http://sustainablefoodedmonton.org/clareview-community-ecogarden/\n",
      "http://sustainablefoodedmonton.org/kensington-community-garden/\n",
      "http://sustainablefoodedmonton.org/eastwood-community-garden/\n",
      "http://sustainablefoodedmonton.org/our-garden/\n",
      "http://sustainablefoodedmonton.org/rio-gardens/\n",
      "http://sustainablefoodedmonton.org/grow-forward-grovenor/\n",
      "http://sustainablefoodedmonton.org/canora/\n",
      "http://sustainablefoodedmonton.org/holy-spirit-lutheran-church/\n",
      "http://sustainablefoodedmonton.org/chappelle/\n",
      "http://sustainablefoodedmonton.org/twin-brooks/\n",
      "http://sustainablefoodedmonton.org/trinity-lutheran-church/\n",
      "http://sustainablefoodedmonton.org/ellerslie-garden/\n",
      "http://sustainablefoodedmonton.org/garrison-hortiâ€¦r-base-members/\n",
      "http://sustainablefoodedmonton.org/st-albert-pariâ€¦eritage-garden/\n"
     ]
    }
   ],
   "source": [
    "for i in garden_df.ix[50:,'url']:\n",
    "    print(i)"
   ]
  },
  {
   "cell_type": "markdown",
   "metadata": {
    "cell_style": "split"
   },
   "source": [
    "this is how I actually update the spreadsheet using `update_cell` "
   ]
  },
  {
   "cell_type": "code",
   "execution_count": 15,
   "metadata": {
    "cell_style": "split",
    "collapsed": true
   },
   "outputs": [],
   "source": [
    "num_rows = len(garden_df)\n",
    "offset = 2\n",
    "url_col_num = 5\n",
    "garden_sheet.update_cell(1,url_col_num,'URLs')\n",
    "column = 5\n",
    "for r in range(offset,num_rows + offset):\n",
    "    garden_sheet.update_cell(r,url_col_num, garden_df.ix[r-offset,'url'])\n",
    "    "
   ]
  },
  {
   "cell_type": "code",
   "execution_count": null,
   "metadata": {
    "cell_style": "split",
    "collapsed": true
   },
   "outputs": [],
   "source": []
  }
 ],
 "metadata": {
  "kernelspec": {
   "display_name": "Python 3",
   "language": "python",
   "name": "python3"
  },
  "language_info": {
   "codemirror_mode": {
    "name": "ipython",
    "version": 3
   },
   "file_extension": ".py",
   "mimetype": "text/x-python",
   "name": "python",
   "nbconvert_exporter": "python",
   "pygments_lexer": "ipython3",
   "version": "3.5.3"
  },
  "toc": {
   "colors": {
    "hover_highlight": "#DAA520",
    "running_highlight": "#FF0000",
    "selected_highlight": "#FFD700"
   },
   "moveMenuLeft": true,
   "nav_menu": {
    "height": "51px",
    "width": "253px"
   },
   "navigate_menu": true,
   "number_sections": true,
   "sideBar": true,
   "threshold": 4,
   "toc_cell": false,
   "toc_section_display": "block",
   "toc_window_display": false
  }
 },
 "nbformat": 4,
 "nbformat_minor": 2
}
